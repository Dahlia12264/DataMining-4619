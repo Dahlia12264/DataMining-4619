{
 "cells": [
  {
   "cell_type": "code",
   "execution_count": 14,
   "id": "cc147ec1",
   "metadata": {},
   "outputs": [],
   "source": [
    "import numpy as np\n",
    "import matplotlib.pyplot as plt\n",
    "\n"
   ]
  },
  {
   "cell_type": "code",
   "execution_count": 20,
   "id": "934cb9c7",
   "metadata": {},
   "outputs": [
    {
     "name": "stdout",
     "output_type": "stream",
     "text": [
      "[[2007 'Alpukat' 426.0]\n",
      " [2007 'Mangga' 28567.0]\n",
      " [2007 'Rambutan' 16035.0]\n",
      " [2007 'Duku/Langsat' 4200.0]\n",
      " [2007 'Jeruk' nan]\n",
      " [2007 'Durian' 1800.0]\n",
      " [2007 'Jambu Biji' 16601.0]\n",
      " [2007 'Jambu Air' 20852.0]\n",
      " [2007 'Sawo' 2605.0]\n",
      " [2007 'Pepaya' 9599.0]\n",
      " [2007 'Pisang' 33926.0]\n",
      " [2007 'Salak' 5825.0]\n",
      " [2007 'Belimbing' 54125.0]\n",
      " [2007 'Nangka' 5706.0]\n",
      " [2007 'Sirsak' 325.0]\n",
      " [2007 'Sukun' 895.0]\n",
      " [2008 'Alpukat' 869.0]\n",
      " [2008 'Mangga' 60604.0]\n",
      " [2008 'Rambutan' 25335.0]\n",
      " [2008 'Duku/Langsat' 1200.0]\n",
      " [2008 'Jeruk' 110.0]\n",
      " [2008 'Durian' 2845.0]\n",
      " [2008 'Jambu Biji' 19138.0]\n",
      " [2008 'Jambu Air' 27358.0]\n",
      " [2008 'Sawo' 2882.0]\n",
      " [2008 'Pepaya' 16811.0]\n",
      " [2008 'Pisang' 44950.0]\n",
      " [2008 'Salak' 36989.0]\n",
      " [2008 'Belimbing' 88993.0]\n",
      " [2008 'Nangka' 6786.0]\n",
      " [2008 'Sirsak' 495.0]\n",
      " [2008 'Sukun' 1319.0]\n",
      " [2009 'Alpukat' 439.0]\n",
      " [2009 'Mangga' 35418.0]\n",
      " [2009 'Rambutan' 24324.0]\n",
      " [2009 'Duku/Langsat' 1243.0]\n",
      " [2009 'Jeruk' 185.0]\n",
      " [2009 'Durian' 3394.0]\n",
      " [2009 'Jambu Biji' 14488.0]\n",
      " [2009 'Jambu Air' 18448.0]\n",
      " [2009 'Sawo' 3370.0]\n",
      " [2009 'Pepaya' 14965.0]\n",
      " [2009 'Pisang' 36906.0]\n",
      " [2009 'Salak' 3410.0]\n",
      " [2009 'Belimbing' 89064.0]\n",
      " [2009 'Nangka' 10024.0]\n",
      " [2009 'Sirsak' 332.0]\n",
      " [2009 'Sukun' 1292.0]\n",
      " [2010 'Alpukat' 458.0]\n",
      " [2010 'Mangga' 53470.0]\n",
      " [2010 'Rambutan' 24261.0]\n",
      " [2010 'Duku/Langsat' 1243.0]\n",
      " [2010 'Jeruk' 440.0]\n",
      " [2010 'Durian' 2664.0]\n",
      " [2010 'Jambu Biji' 22595.0]\n",
      " [2010 'Jambu Air' 30738.0]\n",
      " [2010 'Sawo' 3100.0]\n",
      " [2010 'Pepaya' 12988.0]\n",
      " [2010 'Pisang' 36037.0]\n",
      " [2010 'Salak' 3440.0]\n",
      " [2010 'Belimbing' 108145.0]\n",
      " [2010 'Nangka' 9983.0]\n",
      " [2010 'Sirsak' 260.0]\n",
      " [2010 'Sukun' 1285.0]\n",
      " [2011 'Alpukat' 608.0]\n",
      " [2011 'Mangga' 47523.0]\n",
      " [2011 'Rambutan' 20767.0]\n",
      " [2011 'Duku/Langsat' 653.0]\n",
      " [2011 'Jeruk' 365.0]\n",
      " [2011 'Durian' 2954.0]\n",
      " [2011 'Jambu Biji' 21039.0]\n",
      " [2011 'Jambu Air' 19268.0]\n",
      " [2011 'Sawo' 2587.0]\n",
      " [2011 'Pepaya' 11912.0]\n",
      " [2011 'Pisang' 35549.0]\n",
      " [2011 'Salak' 4239.0]\n",
      " [2011 'Belimbing' 89173.0]\n",
      " [2011 'Nangka' 10201.0]\n",
      " [2011 'Sirsak' 214.0]\n",
      " [2011 'Sukun' 1068.0]]\n"
     ]
    }
   ],
   "source": [
    "import pandas as pd\n",
    "df = pd.read_csv('buah.csv')\n",
    "X = df.iloc[:, :-1].values\n",
    "y = df.iloc[:, -1].values\n",
    "\n",
    "                           \n",
    "print(X)"
   ]
  },
  {
   "cell_type": "code",
   "execution_count": 21,
   "id": "b190554f",
   "metadata": {},
   "outputs": [
    {
     "name": "stdout",
     "output_type": "stream",
     "text": [
      "[4.6800e+02 1.8165e+04 1.1444e+04 6.0600e+02        nan 6.6600e+02\n",
      " 8.3510e+03 1.0589e+04 1.7130e+03 8.4820e+03 1.0407e+04 8.6000e+02\n",
      " 3.2263e+04 7.0190e+03 1.4100e+02 4.1300e+02 4.9300e+02 2.6911e+04\n",
      " 6.9460e+03 6.0000e+02 3.2000e+01 1.2910e+03 5.9200e+03 5.5910e+03\n",
      " 1.6540e+03 5.0750e+03 1.6954e+04 7.2000e+02 3.3633e+04 3.6800e+03\n",
      " 2.1900e+02 5.6000e+02 4.8400e+02 2.7830e+04 6.1540e+03 8.2500e+02\n",
      " 1.0700e+02 2.8760e+03 7.9510e+03 4.8680e+03 2.5320e+03 6.9210e+03\n",
      " 1.0302e+04 2.8400e+02 4.7719e+04 4.4170e+03 3.1100e+02 8.0300e+02\n",
      " 5.1100e+02 3.3076e+04 7.8670e+03 5.1700e+02 1.4900e+02 2.5850e+03\n",
      " 7.7600e+03 5.7310e+03 1.1210e+03 5.4280e+03 7.4610e+03 3.7900e+02\n",
      " 4.8853e+04 4.3410e+03 2.0000e+01 2.6200e+02 5.3800e+02 3.6021e+04\n",
      " 7.6870e+03 4.7200e+02 3.7200e+02 2.2620e+03 7.7610e+03 6.2000e+03\n",
      " 1.4460e+03 3.4070e+03 6.9490e+03 3.1200e+02 5.6163e+04 5.3330e+03\n",
      " 2.0000e+01 1.6400e+02]\n"
     ]
    }
   ],
   "source": [
    "print(y)"
   ]
  },
  {
   "cell_type": "code",
   "execution_count": 27,
   "id": "c77898fa",
   "metadata": {},
   "outputs": [
    {
     "ename": "ValueError",
     "evalue": "Cannot use mean strategy with non-numeric data:\ncould not convert string to float: 'Alpukat'",
     "output_type": "error",
     "traceback": [
      "\u001b[1;31m---------------------------------------------------------------------------\u001b[0m",
      "\u001b[1;31mValueError\u001b[0m                                Traceback (most recent call last)",
      "Input \u001b[1;32mIn [27]\u001b[0m, in \u001b[0;36m<cell line: 3>\u001b[1;34m()\u001b[0m\n\u001b[0;32m      1\u001b[0m \u001b[38;5;28;01mfrom\u001b[39;00m \u001b[38;5;21;01msklearn\u001b[39;00m\u001b[38;5;21;01m.\u001b[39;00m\u001b[38;5;21;01mimpute\u001b[39;00m \u001b[38;5;28;01mimport\u001b[39;00m SimpleImputer\n\u001b[0;32m      2\u001b[0m imputer \u001b[38;5;241m=\u001b[39m SimpleImputer(missing_values\u001b[38;5;241m=\u001b[39mnp\u001b[38;5;241m.\u001b[39mnan, strategy\u001b[38;5;241m=\u001b[39m\u001b[38;5;124m'\u001b[39m\u001b[38;5;124mmean\u001b[39m\u001b[38;5;124m'\u001b[39m)\n\u001b[1;32m----> 3\u001b[0m \u001b[43mimputer\u001b[49m\u001b[38;5;241;43m.\u001b[39;49m\u001b[43mfit\u001b[49m\u001b[43m(\u001b[49m\u001b[43mX\u001b[49m\u001b[43m[\u001b[49m\u001b[43m:\u001b[49m\u001b[43m,\u001b[49m\u001b[43m \u001b[49m\u001b[38;5;241;43m1\u001b[39;49m\u001b[43m:\u001b[49m\u001b[38;5;241;43m3\u001b[39;49m\u001b[43m]\u001b[49m\u001b[43m)\u001b[49m\n\u001b[0;32m      4\u001b[0m X[:, \u001b[38;5;241m1\u001b[39m:\u001b[38;5;241m3\u001b[39m] \u001b[38;5;241m=\u001b[39m imputer\u001b[38;5;241m.\u001b[39mtransform(X[:, \u001b[38;5;241m1\u001b[39m:\u001b[38;5;241m3\u001b[39m])\n",
      "File \u001b[1;32m~\\AppData\\Local\\Programs\\Python\\Python310\\lib\\site-packages\\sklearn\\impute\\_base.py:319\u001b[0m, in \u001b[0;36mSimpleImputer.fit\u001b[1;34m(self, X, y)\u001b[0m\n\u001b[0;32m    302\u001b[0m \u001b[38;5;28;01mdef\u001b[39;00m \u001b[38;5;21mfit\u001b[39m(\u001b[38;5;28mself\u001b[39m, X, y\u001b[38;5;241m=\u001b[39m\u001b[38;5;28;01mNone\u001b[39;00m):\n\u001b[0;32m    303\u001b[0m     \u001b[38;5;124;03m\"\"\"Fit the imputer on `X`.\u001b[39;00m\n\u001b[0;32m    304\u001b[0m \n\u001b[0;32m    305\u001b[0m \u001b[38;5;124;03m    Parameters\u001b[39;00m\n\u001b[1;32m   (...)\u001b[0m\n\u001b[0;32m    317\u001b[0m \u001b[38;5;124;03m        Fitted estimator.\u001b[39;00m\n\u001b[0;32m    318\u001b[0m \u001b[38;5;124;03m    \"\"\"\u001b[39;00m\n\u001b[1;32m--> 319\u001b[0m     X \u001b[38;5;241m=\u001b[39m \u001b[38;5;28;43mself\u001b[39;49m\u001b[38;5;241;43m.\u001b[39;49m\u001b[43m_validate_input\u001b[49m\u001b[43m(\u001b[49m\u001b[43mX\u001b[49m\u001b[43m,\u001b[49m\u001b[43m \u001b[49m\u001b[43min_fit\u001b[49m\u001b[38;5;241;43m=\u001b[39;49m\u001b[38;5;28;43;01mTrue\u001b[39;49;00m\u001b[43m)\u001b[49m\n\u001b[0;32m    321\u001b[0m     \u001b[38;5;66;03m# default fill_value is 0 for numerical input and \"missing_value\"\u001b[39;00m\n\u001b[0;32m    322\u001b[0m     \u001b[38;5;66;03m# otherwise\u001b[39;00m\n\u001b[0;32m    323\u001b[0m     \u001b[38;5;28;01mif\u001b[39;00m \u001b[38;5;28mself\u001b[39m\u001b[38;5;241m.\u001b[39mfill_value \u001b[38;5;129;01mis\u001b[39;00m \u001b[38;5;28;01mNone\u001b[39;00m:\n",
      "File \u001b[1;32m~\\AppData\\Local\\Programs\\Python\\Python310\\lib\\site-packages\\sklearn\\impute\\_base.py:285\u001b[0m, in \u001b[0;36mSimpleImputer._validate_input\u001b[1;34m(self, X, in_fit)\u001b[0m\n\u001b[0;32m    279\u001b[0m \u001b[38;5;28;01mif\u001b[39;00m \u001b[38;5;124m\"\u001b[39m\u001b[38;5;124mcould not convert\u001b[39m\u001b[38;5;124m\"\u001b[39m \u001b[38;5;129;01min\u001b[39;00m \u001b[38;5;28mstr\u001b[39m(ve):\n\u001b[0;32m    280\u001b[0m     new_ve \u001b[38;5;241m=\u001b[39m \u001b[38;5;167;01mValueError\u001b[39;00m(\n\u001b[0;32m    281\u001b[0m         \u001b[38;5;124m\"\u001b[39m\u001b[38;5;124mCannot use \u001b[39m\u001b[38;5;132;01m{}\u001b[39;00m\u001b[38;5;124m strategy with non-numeric data:\u001b[39m\u001b[38;5;130;01m\\n\u001b[39;00m\u001b[38;5;132;01m{}\u001b[39;00m\u001b[38;5;124m\"\u001b[39m\u001b[38;5;241m.\u001b[39mformat(\n\u001b[0;32m    282\u001b[0m             \u001b[38;5;28mself\u001b[39m\u001b[38;5;241m.\u001b[39mstrategy, ve\n\u001b[0;32m    283\u001b[0m         )\n\u001b[0;32m    284\u001b[0m     )\n\u001b[1;32m--> 285\u001b[0m     \u001b[38;5;28;01mraise\u001b[39;00m new_ve \u001b[38;5;28;01mfrom\u001b[39;00m \u001b[38;5;28mNone\u001b[39m\n\u001b[0;32m    286\u001b[0m \u001b[38;5;28;01melse\u001b[39;00m:\n\u001b[0;32m    287\u001b[0m     \u001b[38;5;28;01mraise\u001b[39;00m ve\n",
      "\u001b[1;31mValueError\u001b[0m: Cannot use mean strategy with non-numeric data:\ncould not convert string to float: 'Alpukat'"
     ]
    }
   ],
   "source": [
    "from sklearn.impute import SimpleImputer\n",
    "imputer = SimpleImputer(missing_values=np.nan, strategy='mean')\n",
    "imputer.fit(X[:, 1:3])\n",
    "X[:, 1:3] = imputer.transform(X[:, 1:3])"
   ]
  },
  {
   "cell_type": "code",
   "execution_count": null,
   "id": "9585c2d1",
   "metadata": {},
   "outputs": [],
   "source": []
  },
  {
   "cell_type": "code",
   "execution_count": null,
   "id": "b432e8e8",
   "metadata": {},
   "outputs": [],
   "source": []
  }
 ],
 "metadata": {
  "kernelspec": {
   "display_name": "Python 3 (ipykernel)",
   "language": "python",
   "name": "python3"
  },
  "language_info": {
   "codemirror_mode": {
    "name": "ipython",
    "version": 3
   },
   "file_extension": ".py",
   "mimetype": "text/x-python",
   "name": "python",
   "nbconvert_exporter": "python",
   "pygments_lexer": "ipython3",
   "version": "3.10.2"
  }
 },
 "nbformat": 4,
 "nbformat_minor": 5
}
